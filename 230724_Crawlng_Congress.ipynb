{
 "cells": [
  {
   "cell_type": "code",
   "execution_count": 170,
   "id": "e84ea7ad",
   "metadata": {},
   "outputs": [],
   "source": [
    "import numpy as np\n",
    "import pandas as pd\n",
    "import requests \n",
    "from bs4 import BeautifulSoup\n",
    "from fake_useragent import UserAgent\n",
    "\n",
    "from urllib.request import urlopen\n",
    "import urllib\n",
    "\n",
    "from selenium import webdriver\n",
    "import openpyxl\n",
    "import time\n",
    "import math\n",
    "from collections import Counter\n",
    "\n",
    "\n",
    "from tqdm.notebook import tqdm\n",
    "\n",
    "import time\n",
    "import datetime"
   ]
  },
  {
   "cell_type": "code",
   "execution_count": 3,
   "id": "9df51dea",
   "metadata": {},
   "outputs": [],
   "source": [
    "def url_split(url):\n",
    "    main_,para_1 = url.split(\"?\")\n",
    "    para_2 = para_1.split(\"&\")\n",
    "    para_3 = [d.replace(\"=\",\":\").split(\":\") for d in para_2 if len(d.replace(\"=\",\":\").split(\":\")) != 1]\n",
    "    params_ = {}\n",
    "    #print(para_3)\n",
    "    for key,value in para_3:\n",
    "        params_[key] = value\n",
    "    return main_,params_"
   ]
  },
  {
   "cell_type": "code",
   "execution_count": 14,
   "id": "3e65f135",
   "metadata": {},
   "outputs": [],
   "source": [
    "url_1 = \"https://news.naver.com/main/list.naver?mode=LPOD&mid=sec&oid=469&date=20230724&page=2\""
   ]
  },
  {
   "cell_type": "code",
   "execution_count": 15,
   "id": "8f48dc81",
   "metadata": {},
   "outputs": [
    {
     "data": {
      "text/plain": [
       "{'mode': 'LPOD', 'mid': 'sec', 'oid': '469', 'date': '20230724', 'page': '2'}"
      ]
     },
     "execution_count": 15,
     "metadata": {},
     "output_type": "execute_result"
    }
   ],
   "source": [
    "main_1,para_1 = url_split(url_1)\n",
    "para_1"
   ]
  },
  {
   "cell_type": "code",
   "execution_count": 16,
   "id": "50757136",
   "metadata": {},
   "outputs": [
    {
     "data": {
      "text/plain": [
       "'https://news.naver.com/main/list.naver'"
      ]
     },
     "execution_count": 16,
     "metadata": {},
     "output_type": "execute_result"
    }
   ],
   "source": [
    "main_1"
   ]
  },
  {
   "cell_type": "code",
   "execution_count": 17,
   "id": "2dc31c1d",
   "metadata": {},
   "outputs": [],
   "source": [
    "journal_cate = {\"경향신문\":\"032\",\"국민일보\":\"005\",\"동아일보\":\"020\",\n",
    "                \"문화일보\":\"021\",\"서울신문\":\"081\",\"세계일보\":\"022\",\"조선일보\":\"023\",\"중앙일보\":\"025\",\n",
    "               \"한겨례\":\"028\",\"한국일보\":\"469\"}"
   ]
  },
  {
   "cell_type": "code",
   "execution_count": 130,
   "id": "8119e9de",
   "metadata": {},
   "outputs": [],
   "source": [
    "main_1 = 'https://news.naver.com/main/list.naver'"
   ]
  },
  {
   "cell_type": "code",
   "execution_count": 181,
   "id": "549ee2f1",
   "metadata": {},
   "outputs": [],
   "source": [
    "def crawling_all(Main_1,jou,date):\n",
    "    user_agent = UserAgent()\n",
    "    headers = {'User-Agent': user_agent.random}\n",
    "    paras = {'mode': 'LPOD', 'mid': 'sec'}\n",
    "    paras[\"oid\"] = jou\n",
    "    paras[\"date\"] = date\n",
    "    dup_check = \"\"\n",
    "    df_all = pd.DataFrame()\n",
    "    tq = tqdm(range(20))\n",
    "    for i in tq:\n",
    "        paras[\"page\"] = str(i+1)\n",
    "        main_1 = Main_1 + \"?\"\n",
    "        for key,value in paras.items():\n",
    "            sort_ = key + \"=\" + value + \"&\"\n",
    "            main_1 += sort_\n",
    "        \n",
    "        html = requests.get(main_1,headers=headers).text\n",
    "        soup = BeautifulSoup(html,\"html.parser\")\n",
    "        #print(main_1)\n",
    "        try:\n",
    "            dup_c = [i[\"alt\"] for i in soup.select(\".type06_headline img\")][0]\n",
    "            if dup_c != dup_check:\n",
    "                dup_check = dup_c\n",
    "                title_list,href_list,brief_list = [],[],[]\n",
    "\n",
    "                for tag in soup.select(\".type06_headline li dl\"):\n",
    "                    try:\n",
    "\n",
    "                        title_list.append(tag.find(\"dt\").find(\"a\").find(\"img\")[\"alt\"])\n",
    "                        href_list.append(tag.find(\"dt\").find(\"a\")[\"href\"])\n",
    "                        brief_list.append(tag.find(\"dd\").find(\"span\").text)\n",
    "                    except:\n",
    "                        title_list.append(tag.find(\"dt\").find(\"a\").text.strip())\n",
    "                        href_list.append(tag.find(\"dt\").find(\"a\")[\"href\"])\n",
    "                        brief_list.append(tag.find(\"dd\").find(\"span\").text)\n",
    "                text_list = []    \n",
    "\n",
    "                for test_href in href_list:\n",
    "                    url_sub = requests.get(test_href,headers=headers).text\n",
    "                    soup_sub = BeautifulSoup(url_sub,\"html.parser\")\n",
    "                    text_ = \"\"\n",
    "                    for tag2 in soup_sub.select(\"#dic_area\"):\n",
    "                        text_ += tag2.text.strip().replace(\"\\n\",\" \")\n",
    "                    text_list.append(text_)\n",
    "                df_ = pd.DataFrame([title_list,href_list,text_list]).T\n",
    "                df_out = df_[df_[2]!=\"\"].reset_index(drop=True)\n",
    "                df_all = pd.concat([df_all,df_out]).reset_index(drop=True)\n",
    "            else:\n",
    "                break\n",
    "        except:\n",
    "            pass\n",
    "\n",
    "    return df_all"
   ]
  },
  {
   "cell_type": "code",
   "execution_count": 154,
   "id": "7233a9e5",
   "metadata": {
    "scrolled": true
   },
   "outputs": [
    {
     "data": {
      "application/vnd.jupyter.widget-view+json": {
       "model_id": "11db4b2320ee4990a17c315027d414e3",
       "version_major": 2,
       "version_minor": 0
      },
      "text/plain": [
       "  0%|          | 0/20 [00:00<?, ?it/s]"
      ]
     },
     "metadata": {},
     "output_type": "display_data"
    },
    {
     "name": "stdout",
     "output_type": "stream",
     "text": [
      "https://news.naver.com/main/list.naver?mode=LPOD&mid=sec&oid=032&date=20230724&page=1&\n",
      "https://news.naver.com/main/list.naver?mode=LPOD&mid=sec&oid=032&date=20230724&page=2&\n",
      "https://news.naver.com/main/list.naver?mode=LPOD&mid=sec&oid=032&date=20230724&page=3&\n",
      "https://news.naver.com/main/list.naver?mode=LPOD&mid=sec&oid=032&date=20230724&page=4&\n",
      "https://news.naver.com/main/list.naver?mode=LPOD&mid=sec&oid=032&date=20230724&page=5&\n",
      "https://news.naver.com/main/list.naver?mode=LPOD&mid=sec&oid=032&date=20230724&page=6&\n",
      "https://news.naver.com/main/list.naver?mode=LPOD&mid=sec&oid=032&date=20230724&page=7&\n",
      "https://news.naver.com/main/list.naver?mode=LPOD&mid=sec&oid=032&date=20230724&page=8&\n"
     ]
    },
    {
     "data": {
      "text/html": [
       "<div>\n",
       "<style scoped>\n",
       "    .dataframe tbody tr th:only-of-type {\n",
       "        vertical-align: middle;\n",
       "    }\n",
       "\n",
       "    .dataframe tbody tr th {\n",
       "        vertical-align: top;\n",
       "    }\n",
       "\n",
       "    .dataframe thead th {\n",
       "        text-align: right;\n",
       "    }\n",
       "</style>\n",
       "<table border=\"1\" class=\"dataframe\">\n",
       "  <thead>\n",
       "    <tr style=\"text-align: right;\">\n",
       "      <th></th>\n",
       "      <th>0</th>\n",
       "      <th>1</th>\n",
       "      <th>2</th>\n",
       "    </tr>\n",
       "  </thead>\n",
       "  <tbody>\n",
       "    <tr>\n",
       "      <th>0</th>\n",
       "      <td>올해 상반기 개선된 제조업 자금 사정, 주원인은 ‘차입금 증가’</td>\n",
       "      <td>https://n.news.naver.com/mnews/article/032/000...</td>\n",
       "      <td>주요 제조기업 ‘자금사정 현황’ 및 ‘자금조달 방식’ 응답. 전경련 제공올해 상반기...</td>\n",
       "    </tr>\n",
       "    <tr>\n",
       "      <th>1</th>\n",
       "      <td>비비큐 “K-푸드 세계 알리는 민간 외교관 될 터”</td>\n",
       "      <td>https://n.news.naver.com/mnews/article/032/000...</td>\n",
       "      <td>윤홍근 회장 ‘글로벌 치킨캠프’ 직접 챙겨세계 각국 대사 등 초청 한식문화도 소개국...</td>\n",
       "    </tr>\n",
       "    <tr>\n",
       "      <th>2</th>\n",
       "      <td>“새집 줄게 헌집 다오” 제주개발공사, 기존주택 매입사업 탄력</td>\n",
       "      <td>https://n.news.naver.com/mnews/article/032/000...</td>\n",
       "      <td>제주개발공사, 상반기 98호 이어 62호 매입주거취약계층에 저렴한 가격 임대    ...</td>\n",
       "    </tr>\n",
       "    <tr>\n",
       "      <th>3</th>\n",
       "      <td>“안전에 대한 믿음과 희망 지켜달라” 헌재에 보내는 이태원 참사 유가족의 편지</td>\n",
       "      <td>https://n.news.naver.com/mnews/article/032/000...</td>\n",
       "      <td>이상민 행정안전부 장관에 대한 헌법재판소 탄핵 심판을 하루 앞둔 24일 이태원참사 ...</td>\n",
       "    </tr>\n",
       "    <tr>\n",
       "      <th>4</th>\n",
       "      <td>손석구, ‘가짜 연기’ 발언 비판한 남명렬에 손편지 사과</td>\n",
       "      <td>https://n.news.naver.com/mnews/article/032/000...</td>\n",
       "      <td>배우 손석구가 지난달 27일 서울 강서구 LG아트센터서울에서 열린 연극 &lt;나무 위의...</td>\n",
       "    </tr>\n",
       "    <tr>\n",
       "      <th>...</th>\n",
       "      <td>...</td>\n",
       "      <td>...</td>\n",
       "      <td>...</td>\n",
       "    </tr>\n",
       "    <tr>\n",
       "      <th>65</th>\n",
       "      <td>[김만권의 손길] 진짜 ‘이권 카르텔’은 어디에 있을까</td>\n",
       "      <td>https://n.news.naver.com/mnews/article/032/000...</td>\n",
       "      <td>| 김만권 경희대 학술연구교수·정치철학자윤 대통령이 정의하는 카르텔이 뭔지 명확하지...</td>\n",
       "    </tr>\n",
       "    <tr>\n",
       "      <th>66</th>\n",
       "      <td>[우리말 산책] 복숭아를 제사상에 안 올리는 이유</td>\n",
       "      <td>https://n.news.naver.com/mnews/article/032/000...</td>\n",
       "      <td>| 엄민용 기자요즘처럼 무더운 날에는 입맛을 잃기 쉽다. 이런 때 많이 찾는 것이 ...</td>\n",
       "    </tr>\n",
       "    <tr>\n",
       "      <th>67</th>\n",
       "      <td>[기고] 국민노후 저버린 윤석열 정부의 ‘이권 카르텔’</td>\n",
       "      <td>https://n.news.naver.com/mnews/article/032/000...</td>\n",
       "      <td>| 김보영 영남대 휴먼서비스학과 교수지난 19일 보건복지부 등이 주최한 ‘신노년층을...</td>\n",
       "    </tr>\n",
       "    <tr>\n",
       "      <th>68</th>\n",
       "      <td>[노래와 세상] 비에 젖은 마음</td>\n",
       "      <td>https://n.news.naver.com/mnews/article/032/000...</td>\n",
       "      <td>| 오광수 시인·대중음악평론가    비는 사랑을 부른다. 적어도 노래 속에서는 그렇...</td>\n",
       "    </tr>\n",
       "    <tr>\n",
       "      <th>69</th>\n",
       "      <td>[지금, 여기] 바다 사람의 ‘괴상한’ 그리움을 보다</td>\n",
       "      <td>https://n.news.naver.com/mnews/article/032/000...</td>\n",
       "      <td>| 김현호 사진비평가·보스토크 프레스 대표요 몇달간 제주를 다녔다. 지역에 대한 잡...</td>\n",
       "    </tr>\n",
       "  </tbody>\n",
       "</table>\n",
       "<p>70 rows × 3 columns</p>\n",
       "</div>"
      ],
      "text/plain": [
       "                                              0  \\\n",
       "0           올해 상반기 개선된 제조업 자금 사정, 주원인은 ‘차입금 증가’   \n",
       "1                  비비큐 “K-푸드 세계 알리는 민간 외교관 될 터”   \n",
       "2            “새집 줄게 헌집 다오” 제주개발공사, 기존주택 매입사업 탄력   \n",
       "3   “안전에 대한 믿음과 희망 지켜달라” 헌재에 보내는 이태원 참사 유가족의 편지   \n",
       "4               손석구, ‘가짜 연기’ 발언 비판한 남명렬에 손편지 사과   \n",
       "..                                          ...   \n",
       "65               [김만권의 손길] 진짜 ‘이권 카르텔’은 어디에 있을까   \n",
       "66                  [우리말 산책] 복숭아를 제사상에 안 올리는 이유   \n",
       "67               [기고] 국민노후 저버린 윤석열 정부의 ‘이권 카르텔’   \n",
       "68                            [노래와 세상] 비에 젖은 마음   \n",
       "69                [지금, 여기] 바다 사람의 ‘괴상한’ 그리움을 보다   \n",
       "\n",
       "                                                    1  \\\n",
       "0   https://n.news.naver.com/mnews/article/032/000...   \n",
       "1   https://n.news.naver.com/mnews/article/032/000...   \n",
       "2   https://n.news.naver.com/mnews/article/032/000...   \n",
       "3   https://n.news.naver.com/mnews/article/032/000...   \n",
       "4   https://n.news.naver.com/mnews/article/032/000...   \n",
       "..                                                ...   \n",
       "65  https://n.news.naver.com/mnews/article/032/000...   \n",
       "66  https://n.news.naver.com/mnews/article/032/000...   \n",
       "67  https://n.news.naver.com/mnews/article/032/000...   \n",
       "68  https://n.news.naver.com/mnews/article/032/000...   \n",
       "69  https://n.news.naver.com/mnews/article/032/000...   \n",
       "\n",
       "                                                    2  \n",
       "0   주요 제조기업 ‘자금사정 현황’ 및 ‘자금조달 방식’ 응답. 전경련 제공올해 상반기...  \n",
       "1   윤홍근 회장 ‘글로벌 치킨캠프’ 직접 챙겨세계 각국 대사 등 초청 한식문화도 소개국...  \n",
       "2   제주개발공사, 상반기 98호 이어 62호 매입주거취약계층에 저렴한 가격 임대    ...  \n",
       "3   이상민 행정안전부 장관에 대한 헌법재판소 탄핵 심판을 하루 앞둔 24일 이태원참사 ...  \n",
       "4   배우 손석구가 지난달 27일 서울 강서구 LG아트센터서울에서 열린 연극 <나무 위의...  \n",
       "..                                                ...  \n",
       "65  | 김만권 경희대 학술연구교수·정치철학자윤 대통령이 정의하는 카르텔이 뭔지 명확하지...  \n",
       "66  | 엄민용 기자요즘처럼 무더운 날에는 입맛을 잃기 쉽다. 이런 때 많이 찾는 것이 ...  \n",
       "67  | 김보영 영남대 휴먼서비스학과 교수지난 19일 보건복지부 등이 주최한 ‘신노년층을...  \n",
       "68  | 오광수 시인·대중음악평론가    비는 사랑을 부른다. 적어도 노래 속에서는 그렇...  \n",
       "69  | 김현호 사진비평가·보스토크 프레스 대표요 몇달간 제주를 다녔다. 지역에 대한 잡...  \n",
       "\n",
       "[70 rows x 3 columns]"
      ]
     },
     "execution_count": 154,
     "metadata": {},
     "output_type": "execute_result"
    }
   ],
   "source": [
    "DF_ = crawling_all(main_1,\"032\",\"20230724\")\n",
    "DF_"
   ]
  },
  {
   "cell_type": "code",
   "execution_count": 178,
   "id": "034c1a12",
   "metadata": {
    "scrolled": true
   },
   "outputs": [
    {
     "name": "stdout",
     "output_type": "stream",
     "text": [
      "20220102\n"
     ]
    },
    {
     "data": {
      "application/vnd.jupyter.widget-view+json": {
       "model_id": "d3ff0ae0218e4ff89bc51af7843adc9d",
       "version_major": 2,
       "version_minor": 0
      },
      "text/plain": [
       "  0%|          | 0/20 [00:00<?, ?it/s]"
      ]
     },
     "metadata": {},
     "output_type": "display_data"
    },
    {
     "name": "stdout",
     "output_type": "stream",
     "text": [
      "20220103\n"
     ]
    },
    {
     "data": {
      "application/vnd.jupyter.widget-view+json": {
       "model_id": "f462fd21963f4b2f80c90c5f72f6c812",
       "version_major": 2,
       "version_minor": 0
      },
      "text/plain": [
       "  0%|          | 0/20 [00:00<?, ?it/s]"
      ]
     },
     "metadata": {},
     "output_type": "display_data"
    },
    {
     "name": "stdout",
     "output_type": "stream",
     "text": [
      "20220104\n"
     ]
    },
    {
     "data": {
      "application/vnd.jupyter.widget-view+json": {
       "model_id": "a41e2226adf14faaa704974cc7e3e5ba",
       "version_major": 2,
       "version_minor": 0
      },
      "text/plain": [
       "  0%|          | 0/20 [00:00<?, ?it/s]"
      ]
     },
     "metadata": {},
     "output_type": "display_data"
    },
    {
     "name": "stdout",
     "output_type": "stream",
     "text": [
      "20220105\n"
     ]
    },
    {
     "data": {
      "application/vnd.jupyter.widget-view+json": {
       "model_id": "26f1ba2ee69246d7b850c1e3a9a4c706",
       "version_major": 2,
       "version_minor": 0
      },
      "text/plain": [
       "  0%|          | 0/20 [00:00<?, ?it/s]"
      ]
     },
     "metadata": {},
     "output_type": "display_data"
    },
    {
     "name": "stdout",
     "output_type": "stream",
     "text": [
      "20220106\n"
     ]
    },
    {
     "data": {
      "application/vnd.jupyter.widget-view+json": {
       "model_id": "1aa27ecc793b459c8ea02b410edc26e9",
       "version_major": 2,
       "version_minor": 0
      },
      "text/plain": [
       "  0%|          | 0/20 [00:00<?, ?it/s]"
      ]
     },
     "metadata": {},
     "output_type": "display_data"
    },
    {
     "name": "stdout",
     "output_type": "stream",
     "text": [
      "20220107\n"
     ]
    },
    {
     "data": {
      "application/vnd.jupyter.widget-view+json": {
       "model_id": "21ee62f39af14a0caed10079cca0409f",
       "version_major": 2,
       "version_minor": 0
      },
      "text/plain": [
       "  0%|          | 0/20 [00:00<?, ?it/s]"
      ]
     },
     "metadata": {},
     "output_type": "display_data"
    },
    {
     "name": "stdout",
     "output_type": "stream",
     "text": [
      "20220108\n"
     ]
    },
    {
     "data": {
      "application/vnd.jupyter.widget-view+json": {
       "model_id": "5ea6ed0a252748bf80eefd06c41a3c8e",
       "version_major": 2,
       "version_minor": 0
      },
      "text/plain": [
       "  0%|          | 0/20 [00:00<?, ?it/s]"
      ]
     },
     "metadata": {},
     "output_type": "display_data"
    },
    {
     "name": "stdout",
     "output_type": "stream",
     "text": [
      "20220109\n"
     ]
    },
    {
     "data": {
      "application/vnd.jupyter.widget-view+json": {
       "model_id": "0c330afc7e0d459480fe81c9cd8169f0",
       "version_major": 2,
       "version_minor": 0
      },
      "text/plain": [
       "  0%|          | 0/20 [00:00<?, ?it/s]"
      ]
     },
     "metadata": {},
     "output_type": "display_data"
    },
    {
     "name": "stdout",
     "output_type": "stream",
     "text": [
      "20220110\n"
     ]
    },
    {
     "data": {
      "application/vnd.jupyter.widget-view+json": {
       "model_id": "1a777f0ab265462584c889b671367c61",
       "version_major": 2,
       "version_minor": 0
      },
      "text/plain": [
       "  0%|          | 0/20 [00:00<?, ?it/s]"
      ]
     },
     "metadata": {},
     "output_type": "display_data"
    },
    {
     "name": "stdout",
     "output_type": "stream",
     "text": [
      "20220111\n"
     ]
    },
    {
     "data": {
      "application/vnd.jupyter.widget-view+json": {
       "model_id": "4469663f5d17449e9f6ffa9462bb30c8",
       "version_major": 2,
       "version_minor": 0
      },
      "text/plain": [
       "  0%|          | 0/20 [00:00<?, ?it/s]"
      ]
     },
     "metadata": {},
     "output_type": "display_data"
    },
    {
     "name": "stdout",
     "output_type": "stream",
     "text": [
      "20220112\n"
     ]
    },
    {
     "data": {
      "application/vnd.jupyter.widget-view+json": {
       "model_id": "f939f6dd844a4a95a40cbea8ecba3808",
       "version_major": 2,
       "version_minor": 0
      },
      "text/plain": [
       "  0%|          | 0/20 [00:00<?, ?it/s]"
      ]
     },
     "metadata": {},
     "output_type": "display_data"
    },
    {
     "name": "stdout",
     "output_type": "stream",
     "text": [
      "20220113\n"
     ]
    },
    {
     "data": {
      "application/vnd.jupyter.widget-view+json": {
       "model_id": "5ea280339f8f4830a197e4723aac187c",
       "version_major": 2,
       "version_minor": 0
      },
      "text/plain": [
       "  0%|          | 0/20 [00:00<?, ?it/s]"
      ]
     },
     "metadata": {},
     "output_type": "display_data"
    },
    {
     "name": "stdout",
     "output_type": "stream",
     "text": [
      "20220114\n"
     ]
    },
    {
     "data": {
      "application/vnd.jupyter.widget-view+json": {
       "model_id": "6337e184af9747239ae75c4b2f48f217",
       "version_major": 2,
       "version_minor": 0
      },
      "text/plain": [
       "  0%|          | 0/20 [00:00<?, ?it/s]"
      ]
     },
     "metadata": {},
     "output_type": "display_data"
    },
    {
     "name": "stdout",
     "output_type": "stream",
     "text": [
      "20220115\n"
     ]
    },
    {
     "data": {
      "application/vnd.jupyter.widget-view+json": {
       "model_id": "8c59ad84ab3047f0a890146c7f4b1dc6",
       "version_major": 2,
       "version_minor": 0
      },
      "text/plain": [
       "  0%|          | 0/20 [00:00<?, ?it/s]"
      ]
     },
     "metadata": {},
     "output_type": "display_data"
    },
    {
     "name": "stdout",
     "output_type": "stream",
     "text": [
      "20220116\n"
     ]
    },
    {
     "data": {
      "application/vnd.jupyter.widget-view+json": {
       "model_id": "09d3d16184184a0bb36c2a01aaeceae3",
       "version_major": 2,
       "version_minor": 0
      },
      "text/plain": [
       "  0%|          | 0/20 [00:00<?, ?it/s]"
      ]
     },
     "metadata": {},
     "output_type": "display_data"
    },
    {
     "name": "stdout",
     "output_type": "stream",
     "text": [
      "20220117\n"
     ]
    },
    {
     "data": {
      "application/vnd.jupyter.widget-view+json": {
       "model_id": "2a1a070992fc4ca98c7cd2b38af9d60f",
       "version_major": 2,
       "version_minor": 0
      },
      "text/plain": [
       "  0%|          | 0/20 [00:00<?, ?it/s]"
      ]
     },
     "metadata": {},
     "output_type": "display_data"
    },
    {
     "name": "stdout",
     "output_type": "stream",
     "text": [
      "20220118\n"
     ]
    },
    {
     "data": {
      "application/vnd.jupyter.widget-view+json": {
       "model_id": "d075dd61be4f4e2fb6b011f4e643113f",
       "version_major": 2,
       "version_minor": 0
      },
      "text/plain": [
       "  0%|          | 0/20 [00:00<?, ?it/s]"
      ]
     },
     "metadata": {},
     "output_type": "display_data"
    },
    {
     "ename": "IndexError",
     "evalue": "list index out of range",
     "output_type": "error",
     "traceback": [
      "\u001b[1;31m---------------------------------------------------------------------------\u001b[0m",
      "\u001b[1;31mIndexError\u001b[0m                                Traceback (most recent call last)",
      "Cell \u001b[1;32mIn[178], line 9\u001b[0m\n\u001b[0;32m      7\u001b[0m date_ \u001b[38;5;241m=\u001b[39m \u001b[38;5;28mstr\u001b[39m(date_\u001b[38;5;241m.\u001b[39mstrftime(\u001b[38;5;124m\"\u001b[39m\u001b[38;5;124m%\u001b[39m\u001b[38;5;124mY\u001b[39m\u001b[38;5;124m%\u001b[39m\u001b[38;5;124mm\u001b[39m\u001b[38;5;132;01m%d\u001b[39;00m\u001b[38;5;124m\"\u001b[39m))\n\u001b[0;32m      8\u001b[0m \u001b[38;5;28mprint\u001b[39m(date_)\n\u001b[1;32m----> 9\u001b[0m df_can \u001b[38;5;241m=\u001b[39m crawling_all(main_1,journ_,date_)\n\u001b[0;32m     10\u001b[0m DF_OUT \u001b[38;5;241m=\u001b[39m pd\u001b[38;5;241m.\u001b[39mconcat([DF_OUT,df_can])\n\u001b[0;32m     11\u001b[0m start_date \u001b[38;5;241m=\u001b[39m datetime\u001b[38;5;241m.\u001b[39mdatetime\u001b[38;5;241m.\u001b[39mstrptime(date_,\u001b[38;5;124m\"\u001b[39m\u001b[38;5;124m%\u001b[39m\u001b[38;5;124mY\u001b[39m\u001b[38;5;124m%\u001b[39m\u001b[38;5;124mm\u001b[39m\u001b[38;5;132;01m%d\u001b[39;00m\u001b[38;5;124m\"\u001b[39m)\n",
      "Cell \u001b[1;32mIn[172], line 21\u001b[0m, in \u001b[0;36mcrawling_all\u001b[1;34m(Main_1, jou, date)\u001b[0m\n\u001b[0;32m     18\u001b[0m soup \u001b[38;5;241m=\u001b[39m BeautifulSoup(html,\u001b[38;5;124m\"\u001b[39m\u001b[38;5;124mhtml.parser\u001b[39m\u001b[38;5;124m\"\u001b[39m)\n\u001b[0;32m     19\u001b[0m \u001b[38;5;66;03m#print(main_1)\u001b[39;00m\n\u001b[1;32m---> 21\u001b[0m dup_c \u001b[38;5;241m=\u001b[39m [i[\u001b[38;5;124m\"\u001b[39m\u001b[38;5;124malt\u001b[39m\u001b[38;5;124m\"\u001b[39m] \u001b[38;5;28;01mfor\u001b[39;00m i \u001b[38;5;129;01min\u001b[39;00m soup\u001b[38;5;241m.\u001b[39mselect(\u001b[38;5;124m\"\u001b[39m\u001b[38;5;124m.type06_headline img\u001b[39m\u001b[38;5;124m\"\u001b[39m)][\u001b[38;5;241m0\u001b[39m]\n\u001b[0;32m     22\u001b[0m \u001b[38;5;28;01mif\u001b[39;00m dup_c \u001b[38;5;241m!=\u001b[39m dup_check:\n\u001b[0;32m     23\u001b[0m     dup_check \u001b[38;5;241m=\u001b[39m dup_c\n",
      "\u001b[1;31mIndexError\u001b[0m: list index out of range"
     ]
    }
   ],
   "source": [
    "start_date = datetime.datetime.strptime(\"20220101\",\"%Y%m%d\")\n",
    "\n",
    "journ_ = journal_cate[\"경향신문\"]\n",
    "DF_OUT = pd.DataFrame()\n",
    "for i in range(30):\n",
    "    date_ = start_date + datetime.timedelta(days=1)\n",
    "    date_ = str(date_.strftime(\"%Y%m%d\"))\n",
    "    print(date_)\n",
    "    df_can = crawling_all(main_1,journ_,date_)\n",
    "    DF_OUT = pd.concat([DF_OUT,df_can])\n",
    "    start_date = datetime.datetime.strptime(date_,\"%Y%m%d\")"
   ]
  },
  {
   "cell_type": "code",
   "execution_count": 180,
   "id": "310220f6",
   "metadata": {},
   "outputs": [],
   "source": [
    "DF_OUT.to_excel(r\"C:\\Users\\Samsung\\Desktop\\all\\Project\\23_Inj\\Data\\out\\sample_2.xlsx\")"
   ]
  },
  {
   "cell_type": "code",
   "execution_count": null,
   "id": "f7217131",
   "metadata": {},
   "outputs": [],
   "source": []
  },
  {
   "cell_type": "code",
   "execution_count": null,
   "id": "5011db3c",
   "metadata": {},
   "outputs": [],
   "source": []
  },
  {
   "cell_type": "code",
   "execution_count": null,
   "id": "88455f2b",
   "metadata": {},
   "outputs": [],
   "source": []
  },
  {
   "cell_type": "code",
   "execution_count": 70,
   "id": "7ff19aec",
   "metadata": {},
   "outputs": [],
   "source": [
    "\n"
   ]
  },
  {
   "cell_type": "code",
   "execution_count": null,
   "id": "3b2ba335",
   "metadata": {},
   "outputs": [],
   "source": []
  }
 ],
 "metadata": {
  "kernelspec": {
   "display_name": "Python 3 (ipykernel)",
   "language": "python",
   "name": "python3"
  },
  "language_info": {
   "codemirror_mode": {
    "name": "ipython",
    "version": 3
   },
   "file_extension": ".py",
   "mimetype": "text/x-python",
   "name": "python",
   "nbconvert_exporter": "python",
   "pygments_lexer": "ipython3",
   "version": "3.11.3"
  }
 },
 "nbformat": 4,
 "nbformat_minor": 5
}
